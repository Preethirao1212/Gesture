{
 "cells": [
  {
   "cell_type": "code",
   "execution_count": 1,
   "id": "dominican-patient",
   "metadata": {},
   "outputs": [
    {
     "name": "stdout",
     "output_type": "stream",
     "text": [
      "சரி\n"
     ]
    }
   ],
   "source": [
    "import googletrans\n",
    "from googletrans import Translator\n",
    "translator = Translator()\n",
    "from_lang = 'en'\n",
    "to_lang = 'ta'\n",
    "text_to_translate = translator.translate('okay',src='en',dest='ta')\n",
    "print(text_to_translate.text)"
   ]
  },
  {
   "cell_type": "code",
   "execution_count": 2,
   "id": "empirical-rocket",
   "metadata": {},
   "outputs": [],
   "source": [
    "import gtts as gt\n",
    "import os"
   ]
  },
  {
   "cell_type": "code",
   "execution_count": 8,
   "id": "falling-penetration",
   "metadata": {},
   "outputs": [
    {
     "data": {
      "text/plain": [
       "0"
      ]
     },
     "execution_count": 8,
     "metadata": {},
     "output_type": "execute_result"
    }
   ],
   "source": [
    "tts=gt.gTTS(text=text_to_translate.text,lang='ta')\n",
    "tts.save(\"tamil.mp3\")\n",
    "os.system(\"tamil.mp3\")"
   ]
  },
  {
   "cell_type": "code",
   "execution_count": null,
   "id": "preceding-possibility",
   "metadata": {},
   "outputs": [],
   "source": []
  }
 ],
 "metadata": {
  "kernelspec": {
   "display_name": "Python 3",
   "language": "python",
   "name": "python3"
  },
  "language_info": {
   "codemirror_mode": {
    "name": "ipython",
    "version": 3
   },
   "file_extension": ".py",
   "mimetype": "text/x-python",
   "name": "python",
   "nbconvert_exporter": "python",
   "pygments_lexer": "ipython3",
   "version": "3.6.13"
  }
 },
 "nbformat": 4,
 "nbformat_minor": 5
}
